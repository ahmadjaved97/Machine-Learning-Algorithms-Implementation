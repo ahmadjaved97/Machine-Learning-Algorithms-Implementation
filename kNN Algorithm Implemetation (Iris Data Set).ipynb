{
  "cells": [
    {
      "metadata": {
        "_uuid": "8f2839f25d086af736a60e9eeb907d3b93b6e0e5",
        "_cell_guid": "b1076dfc-b9ad-4769-8c92-a6c4dae69d19",
        "trusted": true
      },
      "cell_type": "code",
      "source": "# This Python 3 environment comes with many helpful analytics libraries installed\n# It is defined by the kaggle/python docker image: https://github.com/kaggle/docker-python\n# For example, here's several helpful packages to load in \n\nimport numpy as np # linear algebra\nimport pandas as pd # data processing, CSV file I/O (e.g. pd.read_csv)\n\n# Input data files are available in the \"../input/\" directory.\n# For example, running this (by clicking run or pressing Shift+Enter) will list the files in the input directory\n\nimport os\nprint(os.listdir(\"../input\"))\n\n# Any results you write to the current directory are saved as output.",
      "execution_count": null,
      "outputs": []
    },
    {
      "metadata": {
        "_uuid": "64c48750786e0d921ea107e2cb88ed1283e9927c"
      },
      "cell_type": "markdown",
      "source": "### Loading required libraries"
    },
    {
      "metadata": {
        "_cell_guid": "79c7e3d0-c299-4dcb-8224-4455121ee9b0",
        "_uuid": "d629ff2d2480ee46fbb7e2d37f6b5fab8052498a",
        "trusted": true
      },
      "cell_type": "code",
      "source": "import numpy as np # linear algebra\nimport pandas as pd # data processing, CSV file I/O (e.g. pd.read_csv)\nimport matplotlib.pyplot as plt\nimport seaborn as sns\n%matplotlib inline\n",
      "execution_count": null,
      "outputs": []
    },
    {
      "metadata": {
        "_uuid": "35913f60645e497d5da2750c5b44862377a57b54"
      },
      "cell_type": "markdown",
      "source": "### Loading the data set"
    },
    {
      "metadata": {
        "trusted": true,
        "_uuid": "e3bb4647188d6dd17aa78cc02e15897c54758200"
      },
      "cell_type": "code",
      "source": "df = pd.read_csv('../input/Iris.csv')\ndf.head()",
      "execution_count": null,
      "outputs": []
    },
    {
      "metadata": {
        "trusted": true,
        "_uuid": "0bb0860e5e97595ef51cb6b3d4361ec4e61ee909"
      },
      "cell_type": "code",
      "source": "#Removing unnecessary column i.e. Id\ndf = df.drop(['Id'], axis = 1)\n",
      "execution_count": null,
      "outputs": []
    },
    {
      "metadata": {
        "trusted": true,
        "_uuid": "4b852d16cd3076446c9e8ba3f5b10ab19ea57edb"
      },
      "cell_type": "code",
      "source": "df.shape",
      "execution_count": null,
      "outputs": []
    },
    {
      "metadata": {
        "trusted": true,
        "_uuid": "52353f16be9ac451f8e07746b9c518681749b1c4"
      },
      "cell_type": "code",
      "source": "df.dtypes",
      "execution_count": null,
      "outputs": []
    },
    {
      "metadata": {
        "_uuid": "10c6e322c7ec8e52da885a42bec6d8e74f44aed8"
      },
      "cell_type": "markdown",
      "source": "### Checking if any column has null values"
    },
    {
      "metadata": {
        "trusted": true,
        "_uuid": "2de2250abcd43578666b1716b102a60a60adee2d"
      },
      "cell_type": "code",
      "source": "df.isnull().sum()",
      "execution_count": null,
      "outputs": []
    },
    {
      "metadata": {
        "trusted": true,
        "_uuid": "a40cd0031906581fb059e35958bd2dc529148bb7"
      },
      "cell_type": "code",
      "source": "df['Species'].unique()",
      "execution_count": null,
      "outputs": []
    },
    {
      "metadata": {
        "_uuid": "9635e715b05e784a512443c225c92d64dc5b65f4"
      },
      "cell_type": "markdown",
      "source": "### Different type of Species present are:\n1.Iris-setosa<br/>\n2.Iris-versicolor<br/>\n3.Iris-virginica"
    },
    {
      "metadata": {
        "trusted": true,
        "_uuid": "4b860c021c2595efed897db96f8cfd2759242504"
      },
      "cell_type": "code",
      "source": "df['Species'].value_counts()",
      "execution_count": null,
      "outputs": []
    },
    {
      "metadata": {
        "_uuid": "88e448693d6668fae41336c49816052e597cf1e4"
      },
      "cell_type": "markdown",
      "source": "#### There are 50 Species of each type"
    },
    {
      "metadata": {
        "trusted": true,
        "_uuid": "d906eb26ae4383db1146f999e490ded65f2854c0"
      },
      "cell_type": "code",
      "source": "df.describe()",
      "execution_count": null,
      "outputs": []
    },
    {
      "metadata": {
        "_uuid": "28188328a0250c92ce692e726aa8c6dfe1663c89"
      },
      "cell_type": "markdown",
      "source": "### Visualizing the given data"
    },
    {
      "metadata": {
        "trusted": true,
        "_uuid": "5969f1fb4bb6f7f09011631b728f8b9ee4aa94b5"
      },
      "cell_type": "code",
      "source": "sns.countplot(x = 'Species', data = df)",
      "execution_count": null,
      "outputs": []
    },
    {
      "metadata": {
        "trusted": true,
        "_uuid": "f85cae3af1a2e1f8c90125a8be8f195b13251fcb"
      },
      "cell_type": "code",
      "source": "corr = df.corr()\nplt.figure(figsize = (10,6))\n\n#Drawing a heatmap to show how various features are correlated\n\nsns.heatmap(corr,annot = True)\nplt.yticks(rotation = 45)",
      "execution_count": null,
      "outputs": []
    },
    {
      "metadata": {
        "trusted": true,
        "_uuid": "c3fb924a8d6f66bf86722302bb90f3ffdcefd7a1"
      },
      "cell_type": "code",
      "source": "sns.pairplot(df, hue = 'Species')",
      "execution_count": null,
      "outputs": []
    },
    {
      "metadata": {
        "trusted": true,
        "_uuid": "f11051e05e424f9ad07d8faf2584513281501956"
      },
      "cell_type": "code",
      "source": "#Scatter plot between petal length and petal witdth\nplt.figure(figsize = (10,6))\nsns.lmplot(x = 'PetalLengthCm', y = 'PetalWidthCm',data = df, hue = 'Species')",
      "execution_count": null,
      "outputs": []
    },
    {
      "metadata": {
        "trusted": true,
        "_uuid": "6145927d90706f1990619653ff2aadb482d7b70f"
      },
      "cell_type": "code",
      "source": "plt.figure(figsize =(10,6) )\nsns.lmplot(x = 'SepalLengthCm', y = 'SepalWidthCm', data = df, hue = 'Species')",
      "execution_count": null,
      "outputs": []
    },
    {
      "metadata": {
        "trusted": true,
        "_uuid": "6b4d4ba1a37e6f5590757a52c1913d366c01544d"
      },
      "cell_type": "code",
      "source": "#swarmplot\nplt.figure(figsize = (10,6))\nsns.swarmplot(x = 'SepalLengthCm', y = 'SepalWidthCm', data = df, hue = 'Species')\n",
      "execution_count": null,
      "outputs": []
    },
    {
      "metadata": {
        "trusted": true,
        "_uuid": "8a56fea7029ab6723169308abf35d6b7190e5a32"
      },
      "cell_type": "code",
      "source": "#Box Plot\nplt.figure(figsize =(10,7) )\nsns.boxplot(x = 'Species', y = 'SepalWidthCm', data = df)",
      "execution_count": null,
      "outputs": []
    },
    {
      "metadata": {
        "_uuid": "81fd0f05064fa29a37e22bba20c6e9be71190bdc"
      },
      "cell_type": "markdown",
      "source": "### Loading Machine Learning Libraries"
    },
    {
      "metadata": {
        "trusted": true,
        "_uuid": "15a805f8432380d23295f9b4fa647b72126a0ebb"
      },
      "cell_type": "code",
      "source": "from sklearn.model_selection import train_test_split\nfrom sklearn.neighbors import KNeighborsClassifier\n",
      "execution_count": null,
      "outputs": []
    },
    {
      "metadata": {
        "trusted": true,
        "_uuid": "a5ad5d408587c7a1fb74c83884f1d8193d24b6ba"
      },
      "cell_type": "code",
      "source": "X = np.array(df.iloc[:,0:4])\ny = np.array(df['Species'])",
      "execution_count": null,
      "outputs": []
    },
    {
      "metadata": {
        "trusted": true,
        "_uuid": "4db1c7f8e82cf541b75dcf4a55a0908b945105ca"
      },
      "cell_type": "code",
      "source": "X_train,X_test,y_train,y_test = train_test_split(X,y,test_size = 0.33, random_state = 42)",
      "execution_count": null,
      "outputs": []
    },
    {
      "metadata": {
        "trusted": true,
        "_uuid": "03f708806513cf175aab329bcd4a12ce31e26417"
      },
      "cell_type": "code",
      "source": "knn = KNeighborsClassifier(n_neighbors = 7)\nknn.fit(X_train,y_train)",
      "execution_count": null,
      "outputs": []
    },
    {
      "metadata": {
        "trusted": true,
        "_uuid": "f5b7422c29b3c7518e45272a30f177b28013778f"
      },
      "cell_type": "code",
      "source": "knn.score(X_test,y_test)",
      "execution_count": null,
      "outputs": []
    },
    {
      "metadata": {
        "_uuid": "67188133f87fdcfd4026fc2081ea20516a25b41a"
      },
      "cell_type": "markdown",
      "source": "### Performing Cross Validation"
    },
    {
      "metadata": {
        "trusted": true,
        "_uuid": "6cac3e9f5e8949b1cdb29950be081209499ef910"
      },
      "cell_type": "code",
      "source": "neighbors = []     #empty list to store the number of neighbors\ncv_scores = []     #empty list to score cross validation scores\n\nfrom sklearn.model_selection import cross_val_score\nfor i in range(1,51,2):\n    neighbors.append(i)\n    knn = KNeighborsClassifier(n_neighbors = i)\n    \n    #Performing 10 fold cross-validation\n    \n    scores = cross_val_score(knn,X_train,y_train, cv = 10, scoring = 'accuracy')\n    cv_scores.append(scores.mean())\n",
      "execution_count": null,
      "outputs": []
    },
    {
      "metadata": {
        "trusted": true,
        "_uuid": "c79a09a24d050b1a35923102ea185aa6a28b31a3"
      },
      "cell_type": "code",
      "source": "#Misclassification error rates\nMSE = [1-x for x in cv_scores]\n\n#determining the best k\noptimal_k = neighbors[MSE.index(min(MSE))]\nprint('The optimal number of neighbors is %d ' %optimal_k)",
      "execution_count": null,
      "outputs": []
    },
    {
      "metadata": {
        "trusted": true,
        "_uuid": "683510ba87d975aab4f16a815874aae793d713a7"
      },
      "cell_type": "code",
      "source": "#Plotting misclassification versus k(number of nearest neighbors)\n\nsns.set()\nplt.figure(figsize = (10,6))\nplt.plot(neighbors,MSE, 'c')\nplt.xlabel('Neighbors')\nplt.ylabel('Misclassification Error Rate')",
      "execution_count": null,
      "outputs": []
    }
  ],
  "metadata": {
    "kernelspec": {
      "display_name": "Python 3",
      "language": "python",
      "name": "python3"
    },
    "language_info": {
      "name": "python",
      "version": "3.6.6",
      "mimetype": "text/x-python",
      "codemirror_mode": {
        "name": "ipython",
        "version": 3
      },
      "pygments_lexer": "ipython3",
      "nbconvert_exporter": "python",
      "file_extension": ".py"
    }
  },
  "nbformat": 4,
  "nbformat_minor": 1
}